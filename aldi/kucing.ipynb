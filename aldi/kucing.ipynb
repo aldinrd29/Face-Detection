{
 "cells": [
  {
   "cell_type": "code",
   "execution_count": 4,
   "id": "ae97f88e-5c91-448f-8cf1-2700b0cb4af2",
   "metadata": {},
   "outputs": [],
   "source": [
    "#Aldi Nurudin 562020120003\n",
    "import PIL.Image\n",
    "import PIL.ImageDraw\n",
    "import face_recognition"
   ]
  },
  {
   "cell_type": "code",
   "execution_count": 5,
   "id": "7a1a111d-8a2f-471c-9092-7862bdc7f96e",
   "metadata": {},
   "outputs": [],
   "source": [
    "given_image = face_recognition.load_image_file('kucing-6.jpg')"
   ]
  },
  {
   "cell_type": "code",
   "execution_count": 6,
   "id": "54f42103-87d2-46cc-a5ca-7ac95a4f0c18",
   "metadata": {},
   "outputs": [
    {
     "name": "stdout",
     "output_type": "stream",
     "text": [
      "We found 0 face(s) in this image.\n"
     ]
    }
   ],
   "source": [
    "face_locations = face_recognition.face_locations(given_image)\n",
    "\n",
    "number_of_faces = len(face_locations)\n",
    "print(\"We found {} face(s) in this image.\".format(number_of_faces))"
   ]
  },
  {
   "cell_type": "code",
   "execution_count": 7,
   "id": "63837b69-33b2-4a8d-80f1-baae7cc7bc28",
   "metadata": {},
   "outputs": [],
   "source": [
    "pil_image = PIL.Image.fromarray(given_image)"
   ]
  },
  {
   "cell_type": "code",
   "execution_count": 8,
   "id": "6bd3d4ba-3795-436c-a1e5-c5e84d09d589",
   "metadata": {},
   "outputs": [],
   "source": [
    "for face_location in face_locations:\n",
    "    top, left, bottom, right = face_location\n",
    "    print(\"A face is detected at pixel location Top: {}, Left: {}, Bottom: {}, Right: {}\".format(top, left, bottom, right))\n",
    "    draw = PIL.ImageDraw.Draw(pil_image)\n",
    "    draw.rectangle([left, top, right, bottom], outline=\"green\", width=10)"
   ]
  },
  {
   "cell_type": "code",
   "execution_count": 9,
   "id": "e29c7d39-e0f8-4931-927e-dd4cc0a7c485",
   "metadata": {},
   "outputs": [],
   "source": [
    "pil_image.show()"
   ]
  },
  {
   "cell_type": "code",
   "execution_count": null,
   "id": "ec31271e-0254-4dd9-a4f0-756a677baf42",
   "metadata": {},
   "outputs": [],
   "source": []
  }
 ],
 "metadata": {
  "kernelspec": {
   "display_name": "Python 3 (ipykernel)",
   "language": "python",
   "name": "python3"
  },
  "language_info": {
   "codemirror_mode": {
    "name": "ipython",
    "version": 3
   },
   "file_extension": ".py",
   "mimetype": "text/x-python",
   "name": "python",
   "nbconvert_exporter": "python",
   "pygments_lexer": "ipython3",
   "version": "3.10.4"
  }
 },
 "nbformat": 4,
 "nbformat_minor": 5
}
